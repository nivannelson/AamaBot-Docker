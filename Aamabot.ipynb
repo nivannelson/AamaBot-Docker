{
  "cells": [
    {
      "cell_type": "markdown",
      "metadata": {
        "colab_type": "text",
        "id": "view-in-github"
      },
      "source": [
        "<a href=\"https://colab.research.google.com/github/nivannelson/AamaBot-Docker/blob/main/README.ipynb\" target=\"_parent\"><img src=\"https://colab.research.google.com/assets/colab-badge.svg\" alt=\"Open In Colab\"/></a>"
      ]
    },
    {
      "cell_type": "markdown",
      "metadata": {
        "id": "uHm15vVEGO9U"
      },
      "source": [
        "# AammaBot Documentation building with Docker"
      ]
    },
    {
      "cell_type": "markdown",
      "metadata": {
        "id": "ddGl-FFQJjeq"
      },
      "source": [
        "Installing Ubuntu 22.04\n",
        "\n",
        "Follow the documentation https://ubuntu.com/tutorials/how-to-install-ubuntu-on-your-raspberry-pi\n",
        "\n",
        "Install Ubuntu 22.04 Server using Raspberry Pi imager to an SD card.\n",
        "\n",
        "Follow through Default image guide https://www.youtube.com/watch?v=Cw_34fuve6E\n",
        "\n",
        "set username to ihsl\n",
        "\n",
        "use a short password like 123\n",
        "\n",
        "later on you are able to set desired network ssid in etc/netplan/  configuration file in this format.\n",
        "\n",
        "50-cloud-init.yaml"
      ]
    },
    {
      "cell_type": "code",
      "execution_count": null,
      "metadata": {
        "id": "WcoMBc4LU7kF"
      },
      "outputs": [],
      "source": [
        "# This file is generated from information provided by the datasource.  Changes\n",
        "# to it will not persist across an instance reboot.  To disable cloud-init's\n",
        "# network configuration capabilities, write a file\n",
        "# /etc/cloud/cloud.cfg.d/99-disable-network-config.cfg with the following:\n",
        "# network: {config: disabled}\n",
        "network:\n",
        "    version: 2\n",
        "    wifis:\n",
        "        renderer: networkd\n",
        "        wlan0:\n",
        "            access-points:\n",
        "                \"Network SSID\":\n",
        "                    password: \"The Network Password\"\n",
        "            dhcp4: true\n",
        "            optional: true"
      ]
    },
    {
      "cell_type": "markdown",
      "metadata": {
        "id": "h9IsYJ1X7n01"
      },
      "source": [
        "Check if pubkeyauthentication yes by\n",
        "sudo sshd -T | grep -E \"pubkeyauthentication\"\n",
        "\n",
        "If no change it sshd_config.d\n",
        "sudo nano /etc/ssh/sshd_config.d\n",
        "\n",
        "Save changes"
      ]
    },
    {
      "cell_type": "markdown",
      "metadata": {
        "id": "09WS2ya4V-3G"
      },
      "source": [
        "Restart your Raspberry pi to see the changes."
      ]
    },
    {
      "cell_type": "markdown",
      "metadata": {
        "id": "w1Y_vdDcWMLX"
      },
      "source": [
        "2. Use .local Hostname via mDNS\n",
        "Goal: Connect using raspberrypi.local (no need to know IP)\n",
        "\n",
        "Prerequisites:\n",
        "Your Pi has avahi-daemon installed (for mDNS)\n",
        "\n",
        "Your PC supports .local names (Linux/macOS do; Windows needs extra setup)\n",
        "\n",
        "On Raspberry Pi:"
      ]
    },
    {
      "cell_type": "code",
      "execution_count": null,
      "metadata": {
        "id": "Ku_JttLFXFHH"
      },
      "outputs": [],
      "source": [
        "sudo apt install avahi-daemon\n"
      ]
    },
    {
      "cell_type": "markdown",
      "metadata": {
        "id": "yYLQIj06Xztz"
      },
      "source": [
        "Make sure you hostname is set"
      ]
    },
    {
      "cell_type": "code",
      "execution_count": null,
      "metadata": {
        "id": "qX6ofGIbXyGO"
      },
      "outputs": [],
      "source": [
        "hostname"
      ]
    },
    {
      "cell_type": "markdown",
      "metadata": {
        "id": "ZWnpXvkFZTIR"
      },
      "source": [
        "to change hostname to any diffrerent name(rpi2ubuntu,rpi3ubuntu,rpi4ubuntu....etc). Use this:"
      ]
    },
    {
      "cell_type": "code",
      "execution_count": null,
      "metadata": {
        "id": "vmEqMuQcZ4Ql"
      },
      "outputs": [],
      "source": [
        "sudo hostnamectl set-hostname rpi2ubuntu\n"
      ]
    },
    {
      "cell_type": "markdown",
      "metadata": {
        "id": "SCFhl_WlX-Pi"
      },
      "source": [
        "if its raspberry, you can now connect like:"
      ]
    },
    {
      "cell_type": "code",
      "execution_count": null,
      "metadata": {
        "id": "uLKONtVvX8JA"
      },
      "outputs": [],
      "source": [
        "ssh ishl@rpi2ubuntu.local"
      ]
    },
    {
      "cell_type": "markdown",
      "metadata": {
        "id": "oebASx30aRMI"
      },
      "source": [
        "# Docker Installation\n"
      ]
    },
    {
      "cell_type": "markdown",
      "metadata": {
        "id": "xHp6xC04hGih"
      },
      "source": [
        "Follow this documentation\n",
        "\n",
        "https://www.docker.com/blog/getting-started-with-docker-for-arm-on-linux/\n",
        "\n",
        "untill creating a hello-world container\n"
      ]
    },
    {
      "cell_type": "markdown",
      "metadata": {
        "id": "0zDDDy0Jg2yP"
      },
      "source": [
        "\n",
        "**Working with Docker using Portainer**\n",
        "\n",
        "\n",
        "Portainer is a GUI for docker for ease of use.\n",
        "It is run as a container in docker and initialises on system boot.\n",
        "for Installation:\n"
      ]
    },
    {
      "cell_type": "code",
      "execution_count": null,
      "metadata": {
        "id": "2voweoNPhsLD"
      },
      "outputs": [],
      "source": [
        "docker volume create portainer_data"
      ]
    },
    {
      "cell_type": "code",
      "execution_count": null,
      "metadata": {
        "id": "KD5B6kWshuyk"
      },
      "outputs": [],
      "source": [
        "docker run -d -p 9000:9000   --name=portainer   --restart=always   -v /var/run/docker.sock:/var/run/docker.sock   -v portainer_data:/data   portainer/portainer-ce:linux-arm"
      ]
    },
    {
      "cell_type": "markdown",
      "metadata": {
        "id": "Ck3nTSCAjji_"
      },
      "source": [
        "Now to check if portainer is running type :\n",
        "\n",
        "docker ps\n",
        "\n",
        "\n",
        "\n",
        "to connect to portainer you can use the ip of the host and port number 9443.\n",
        "\n",
        "here if the host name is rpi2ubuntu then use\n",
        "\n",
        "https://rpi2ubuntu.local:9000/\n",
        "\n",
        "set username and password.\n",
        "\n",
        "user:admin\n",
        "password:123\n",
        "\n",
        "In portainer you are able to add,remove,visualize containers,images and volumes easly."
      ]
    },
    {
      "cell_type": "markdown",
      "metadata": {
        "id": "a_UcCo2Xksbc"
      },
      "source": [
        "**Working with portainer**\n",
        "\n",
        "Delete unused container by going to the container tab and selecting the check box & remove.\n",
        "\n",
        "Pull new Docker Image by going to the Images tab add the image tag in Pull image text box.\n",
        "\n",
        "Ammabot images are managed by mrxnelson in DockerHub.\n",
        "\n",
        "type:\n",
        "mrxnelson/aammabot:v1\n",
        "\n",
        "to get the first complete version of ammabot image.\n",
        "\n",
        "Pull the image.\n",
        "\n",
        "Alternatively type this in the bash terminal instead(If the download takes too long).\n",
        "\n",
        "\n",
        "docker pull mrxnelson/aammabot:v1\n",
        "\n",
        "\n",
        "\n",
        "\n",
        "Go to the container tab\n",
        "\n",
        "Add container\n",
        "Image name as mrxnelson/aammabot:v1"
      ]
    },
    {
      "cell_type": "markdown",
      "metadata": {
        "id": "iOPl8pC7rQNz"
      },
      "source": [
        "To run the Image type this command in the terminal"
      ]
    },
    {
      "cell_type": "code",
      "execution_count": null,
      "metadata": {
        "id": "EcSt_3VDra5p"
      },
      "outputs": [],
      "source": [
        "docker run -it --name aammabot  --restart=always --net=host \\\n",
        "  --privileged --device /dev/gpiomem \\\n",
        "  -v /sys/class/gpio:/sys/class/gpio \\\n",
        "  -v /dev:/dev -e ROS_LOCALHOST_ONLY=0 \\\n",
        "  mrxnelson/aammabot:v1"
      ]
    },
    {
      "cell_type": "markdown",
      "metadata": {
        "id": "F-V5fOdI82Zx"
      },
      "source": [
        "You can see the container is running in portainer called aamabot.\n",
        "\n",
        "Access the container through VS code attach to running container feature after connecting to the ssh of the raspberry pi in the host pc."
      ]
    },
    {
      "cell_type": "markdown",
      "metadata": {
        "id": "lYTBolto9eAd"
      },
      "source": [
        "**running the ros2 launch file**\n",
        "\n",
        "Start the ros node by:"
      ]
    },
    {
      "cell_type": "code",
      "execution_count": null,
      "metadata": {
        "id": "SM-QVpMo-QER"
      },
      "outputs": [],
      "source": [
        "ros2 launch aama_bringup bringup.launch.py"
      ]
    },
    {
      "cell_type": "markdown",
      "metadata": {
        "id": "N9JKqat5A677"
      },
      "source": [
        "Additionally the ros launch can be automated by adding this command in /root/entrypoint.sh(Optional)\n",
        "\n",
        "connecting to ros2 is done by setting the environmental variable:\n",
        "ROS_DOMAIN_ID which is 134 in entrypoint.sh.\n",
        "\n",
        "(Optional)Change to a different ID value less than 200.\n",
        "\n"
      ]
    },
    {
      "cell_type": "markdown",
      "metadata": {
        "id": "EI8lG_CNC2Ud"
      },
      "source": [
        "#Accessing the ROS2 topics\n",
        "\n",
        "\n"
      ]
    },
    {
      "cell_type": "markdown",
      "metadata": {
        "id": "QADzwKrkC8D_"
      },
      "source": [
        "To accest the Robot topics"
      ]
    },
    {
      "cell_type": "code",
      "execution_count": null,
      "metadata": {
        "id": "5QHU-2wkDszp"
      },
      "outputs": [],
      "source": [
        "export ROS_DOMAIN_ID=134       # Change the ID to match with the ID mentioned in entrypoint.sh"
      ]
    },
    {
      "cell_type": "code",
      "execution_count": null,
      "metadata": {
        "id": "ioAJm3EmEOXg"
      },
      "outputs": [],
      "source": [
        "export /opt/ros/humble/setup.bash"
      ]
    },
    {
      "cell_type": "code",
      "execution_count": null,
      "metadata": {
        "id": "6Gs8MLBwEoRx"
      },
      "outputs": [],
      "source": [
        "ros2 topic list"
      ]
    },
    {
      "cell_type": "markdown",
      "metadata": {
        "id": "r88qi_6GEpW7"
      },
      "source": [
        "You will get the output as:\n"
      ]
    },
    {
      "cell_type": "code",
      "execution_count": null,
      "metadata": {
        "id": "7kM6rZtSE0Bs"
      },
      "outputs": [],
      "source": [
        "/cmd_vel\n",
        "/odom_rf2o\n",
        "/parameter_events\n",
        "/point_cloud\n",
        "/rosout\n",
        "/scan\n",
        "/tf\n",
        "/tf_static\n"
      ]
    },
    {
      "cell_type": "markdown",
      "metadata": {
        "id": "QY1XeeoGE_mJ"
      },
      "source": [
        "The github repository of Ammabot is\n",
        "\n",
        "https://github.com/ebeyrajJY/AamaBot\n",
        "\n",
        "clone the packages into a ros workspace and only build packages for SLAM and navigation.\n",
        "\n",
        "colcon build --packages-select navigation\n",
        "colcon build --packages-select robot_cartographer_config\n",
        "\n",
        "After building source the workspace.\n",
        "\n",
        "to run Mapping:\n",
        "\n",
        "ros2 launch robot_cartographer_config mapping.launch.py\n",
        "\n",
        "Save the map in navigation/map as map.pgm & map.yaml\n",
        "\n",
        "to run Navigation:\n",
        "\n",
        "ros2 launch navigation navigation2.launch.py\n",
        "\n",
        "\n",
        "rviz2 needs initial pose to recognise map frame.\n"
      ]
    }
  ],
  "metadata": {
    "colab": {
      "authorship_tag": "ABX9TyOG4YkHfqQfsMrnumwbkgcz",
      "include_colab_link": true,
      "provenance": []
    },
    "kernelspec": {
      "display_name": "Python 3",
      "name": "python3"
    },
    "language_info": {
      "name": "python"
    }
  },
  "nbformat": 4,
  "nbformat_minor": 0
}
